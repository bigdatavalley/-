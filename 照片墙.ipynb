{
 "cells": [
  {
   "cell_type": "code",
   "execution_count": 17,
   "metadata": {},
   "outputs": [],
   "source": [
    "from PIL import Image, ImageDraw, ImageFont\n",
    "# 解决读取图片报错\n",
    "from PIL import ImageFile\n",
    "ImageFile.LOAD_TRUNCATED_IMAGES = True\n",
    "import os"
   ]
  },
  {
   "cell_type": "code",
   "execution_count": 31,
   "metadata": {},
   "outputs": [],
   "source": [
    "# 获取文字\n",
    "def gen_text_img(text, font_size, font_path=None):\n",
    "    '''\n",
    "    输入：\n",
    "    text：照片墙的样式文字\n",
    "    font_size：字体的大小\n",
    "    font_path：字体\n",
    "    返回：\n",
    "    文字图像\n",
    "    '''\n",
    "    font = ImageFont.truetype(font_path, font_size)\n",
    "    (width, length) = font.getsize(text)\n",
    "    text_img = Image.new('RGBA', (width, length))\n",
    "    draw = ImageDraw.Draw(text_img)\n",
    "    # 从左上角开始绘制\n",
    "    draw.text((0, 0), text, fill=(0, 0, 0), font=font)\n",
    "    return text_img"
   ]
  },
  {
   "cell_type": "code",
   "execution_count": 32,
   "metadata": {},
   "outputs": [],
   "source": [
    "def trans_alpha(img, pixel):\n",
    "    '''\n",
    "    R：红\n",
    "    G：绿\n",
    "    B：蓝\n",
    "    A：透明\n",
    "    '''\n",
    "    _, _, _, alpha = img.split()\n",
    "    alpha = alpha.point(lambda i: pixel[-1] * 10)\n",
    "    img.putalpha(alpha)\n",
    "    return img"
   ]
  },
  {
   "cell_type": "code",
   "execution_count": 33,
   "metadata": {},
   "outputs": [],
   "source": [
    "def picture_wall_mask(text_img, edge_len, pic_dir):\n",
    "    '''\n",
    "    输入：\n",
    "    text_img：文字图像\n",
    "    edge_len：照片边长（用于扩大像素）\n",
    "    pic_dir：路径\n",
    "    '''\n",
    "    # 像素扩大\n",
    "    new_img = Image.new(\n",
    "        'RGBA', (text_img.size[0] * edge_len, text_img.size[1] * edge_len))\n",
    "    file_list = os.listdir(pic_dir)\n",
    "    img_index = 0\n",
    "    for x in range(0, text_img.size[0]):\n",
    "        for y in range(0, text_img.size[1]):\n",
    "            pixel = text_img.getpixel((x, y))\n",
    "            file_name = file_list[img_index % len(file_list)]\n",
    "            try:\n",
    "                # 导入图片\n",
    "                img = Image.open(os.path.join(pic_dir, file_name)).convert(\n",
    "                    'RGBA')\n",
    "                img = img.resize((edge_len, edge_len))\n",
    "                img = trans_alpha(img, pixel)\n",
    "                # 进行替换\n",
    "                new_img.paste(img,\n",
    "                              (x * edge_len, y * edge_len))\n",
    "                img_index += 1\n",
    "            except Exception as e:\n",
    "                print(f\"open fails：{file_name} + {e}\")\n",
    "    return new_img"
   ]
  },
  {
   "cell_type": "code",
   "execution_count": 34,
   "metadata": {},
   "outputs": [],
   "source": [
    "def main(text='',\n",
    "         font_size=20,\n",
    "         edge_len=60,\n",
    "         pic_dir=\"./微信头\",\n",
    "         out_dir=\"./out\",\n",
    "         font_path='buzz_cloud_font.ttf'):\n",
    "    '''\n",
    "    生成照片墙\n",
    "    :param text: 照片墙字符样式\n",
    "    :param font_size: 字体大小\n",
    "    :param edge_len: sub picture's egde length\n",
    "    '''\n",
    "    if len(text) >= 1:\n",
    "        text_ = ' '.join(text)\n",
    "        print(f\"generate text wall for '{text_}' with picture path:{pic_dir}\")\n",
    "        text_img = gen_text_img(text_, font_size, font_path)\n",
    "        img_ascii = picture_wall_mask(text_img, edge_len, pic_dir)\n",
    "        img_ascii.save(out_dir + os.path.sep + ''.join(text) + '.png')"
   ]
  },
  {
   "cell_type": "code",
   "execution_count": 36,
   "metadata": {},
   "outputs": [
    {
     "name": "stdout",
     "output_type": "stream",
     "text": [
      "generate text wall for 'C A' with picture path:./微信头\n"
     ]
    }
   ],
   "source": [
    "main(text='CA')"
   ]
  },
  {
   "cell_type": "code",
   "execution_count": null,
   "metadata": {},
   "outputs": [],
   "source": []
  }
 ],
 "metadata": {
  "kernelspec": {
   "display_name": "Python 3",
   "language": "python",
   "name": "python3"
  },
  "language_info": {
   "codemirror_mode": {
    "name": "ipython",
    "version": 3
   },
   "file_extension": ".py",
   "mimetype": "text/x-python",
   "name": "python",
   "nbconvert_exporter": "python",
   "pygments_lexer": "ipython3",
   "version": "3.7.4"
  },
  "latex_envs": {
   "LaTeX_envs_menu_present": true,
   "autoclose": false,
   "autocomplete": true,
   "bibliofile": "biblio.bib",
   "cite_by": "apalike",
   "current_citInitial": 1,
   "eqLabelWithNumbers": true,
   "eqNumInitial": 1,
   "hotkeys": {
    "equation": "Ctrl-E",
    "itemize": "Ctrl-I"
   },
   "labels_anchors": false,
   "latex_user_defs": false,
   "report_style_numbering": false,
   "user_envs_cfg": false
  },
  "toc": {
   "base_numbering": 1,
   "nav_menu": {},
   "number_sections": true,
   "sideBar": true,
   "skip_h1_title": false,
   "title_cell": "Table of Contents",
   "title_sidebar": "Contents",
   "toc_cell": false,
   "toc_position": {},
   "toc_section_display": true,
   "toc_window_display": false
  }
 },
 "nbformat": 4,
 "nbformat_minor": 2
}
